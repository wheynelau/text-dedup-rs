{
 "cells": [
  {
   "cell_type": "code",
   "execution_count": 1,
   "metadata": {},
   "outputs": [],
   "source": [
    "from text_dedup.minhash import embed_func\n",
    "from dedup_rs import EmbedFunc\n",
    "from dedup_rs import UnionFind as uf_rs\n",
    "import os\n",
    "import numpy as np\n",
    "import re\n",
    "import multiprocessing as mp\n",
    "from text_dedup.utils import *\n",
    "INDEX_COLUMN = \"__index__\"\n",
    "CLUSTER_COLUMN = \"__cluster__\"\n",
    "NUM_PROC = os.cpu_count()\n",
    "SIGNATURE_COLUMN = \"__signatures__\""
   ]
  },
  {
   "cell_type": "code",
   "execution_count": 2,
   "metadata": {},
   "outputs": [],
   "source": [
    "uf = uf_rs.load(\"/home/wayne/kioxia/github/text-dedup/temp_output_minhash_rust/uf.json\")"
   ]
  },
  {
   "cell_type": "code",
   "execution_count": 2,
   "metadata": {},
   "outputs": [],
   "source": [
    "from text_dedup.minhash_rust import *"
   ]
  },
  {
   "cell_type": "code",
   "execution_count": 3,
   "metadata": {},
   "outputs": [],
   "source": [
    "SEED = 42\n",
    "RNG = np.random.RandomState(SEED)\n",
    "NON_ALPHA = re.compile(r\"\\W\", re.UNICODE)\n",
    "datasets.logging.set_verbosity_error()\n",
    "# for is originally used to reduce memory usage in MacOS but also ensures that the Union Find data structure\n",
    "# is not copied to child processes as long as it is not modified.\n",
    "mp.set_start_method(\"fork\", force=True)\n",
    "uf = UnionFind()\n",
    "SIGNATURE_COLUMN = \"__signatures__\""
   ]
  },
  {
   "cell_type": "code",
   "execution_count": 4,
   "metadata": {},
   "outputs": [],
   "source": [
    "Emb = EmbedFunc.from_b_r(50, 4, 200, SIGNATURE_COLUMN, INDEX_COLUMN)"
   ]
  },
  {
   "cell_type": "code",
   "execution_count": 5,
   "metadata": {},
   "outputs": [],
   "source": [
    "meta_args = MetaArgs(column=\"text\",batch_size=5000)\n",
    "io_args = IOArgs(\n",
    "        path=\"./temp_inp_ds\",\n",
    "        local=True,\n",
    "        num_proc=NUM_PROC,\n",
    "        cache_dir=\".cache\",\n",
    "        output=\"./temp_output_minhash\",\n",
    "        debug=True,\n",
    "        clean_cache=True,\n",
    "    )\n",
    "minhash_args = MinHashArgs(num_perm=200, ngram=2, threshold=0.5, b=50, r=4)"
   ]
  },
  {
   "cell_type": "code",
   "execution_count": 6,
   "metadata": {},
   "outputs": [
    {
     "data": {
      "text/plain": [
       "0"
      ]
     },
     "execution_count": 6,
     "metadata": {},
     "output_type": "execute_result"
    }
   ],
   "source": [
    "ds, id2id = load_hf_dataset(io_args=io_args, meta_args=meta_args)\n",
    "ds = ds.filter(\n",
    "    lambda x: len(NON_ALPHA.split(x[meta_args.column].lower())) >= minhash_args.min_length,\n",
    "    num_proc=io_args.num_proc,\n",
    ")\n",
    "# ds = ds.select(range(100000))\n",
    "ds.cleanup_cache_files()"
   ]
  },
  {
   "cell_type": "code",
   "execution_count": 8,
   "metadata": {},
   "outputs": [
    {
     "data": {
      "application/vnd.jupyter.widget-view+json": {
       "model_id": "8552fd456a5d4ab2965c70e3f7b5fe7a",
       "version_major": 2,
       "version_minor": 0
      },
      "text/plain": [
       "Fingerprinting with rust...:   0%|          | 0/100000 [00:00<?, ? examples/s]"
      ]
     },
     "metadata": {},
     "output_type": "display_data"
    },
    {
     "data": {
      "text/plain": [
       "Dataset({\n",
       "    features: ['core_id', 'doi', 'original_abstract', 'original_title', 'processed_title', 'processed_abstract', 'cat', 'labelled_duplicates', 'text', '__index__'],\n",
       "    num_rows: 100000\n",
       "})"
      ]
     },
     "execution_count": 8,
     "metadata": {},
     "output_type": "execute_result"
    }
   ],
   "source": [
    "ds.map(\n",
    "                Emb.batch_embed_shard,\n",
    "                input_columns=[meta_args.column, INDEX_COLUMN],\n",
    "                remove_columns=[col for col in ds.column_names if col != INDEX_COLUMN],\n",
    "                batched=True,\n",
    "                batch_size=10000,\n",
    "                with_indices=False,\n",
    "                desc=\"Fingerprinting with rust...\",\n",
    "            )"
   ]
  },
  {
   "cell_type": "markdown",
   "metadata": {},
   "source": [
    "def hash_func(byte_data):\n",
    "    return sha1_hash(byte_data, d=min(minhash_args.hash_bits, 32))"
   ]
  },
  {
   "cell_type": "markdown",
   "metadata": {},
   "source": [
    "dtype, max_hash, modulo_prime =  (np.uint64, np.uint32((1 << 32) - 1), np.uint64((1 << 61) - 1))\n",
    "PERMUTATIONS: tuple[np.ndarray, np.ndarray] = (\n",
    "        RNG.randint(\n",
    "            1, modulo_prime, size=(200,), dtype=dtype\n",
    "        ),  # a is a multiplier so should not be 0\n",
    "        RNG.randint(0, modulo_prime, size=(200,), dtype=dtype),  # b\n",
    "    )\n",
    "B, R = optimal_param(\n",
    "            minhash_args.threshold,\n",
    "            minhash_args.num_perm,\n",
    "            false_positive_weight=0.5,\n",
    "            false_negative_weight=0.5,\n",
    "        )\n",
    "hashranges = [(i * R, (i + 1) * R) for i in range(B)]\n",
    "embedded = ds.map(\n",
    "        function=embed_func,\n",
    "        fn_kwargs={\n",
    "            \"num_perm\": minhash_args.num_perm,\n",
    "            \"hashranges\": hashranges,\n",
    "            \"ngram_size\": minhash_args.ngram,\n",
    "            \"min_length\": minhash_args.min_length,\n",
    "            \"permutations\": PERMUTATIONS,\n",
    "            \"hash_func\": hash_func,\n",
    "            \"dtype\": dtype,\n",
    "            \"max_hash\": max_hash,\n",
    "            \"modulo_prime\": modulo_prime\n",
    "        },\n",
    "        input_columns=[meta_args.column, INDEX_COLUMN],\n",
    "        remove_columns=[col for col in ds.column_names if col != INDEX_COLUMN],\n",
    "        num_proc=io_args.num_proc,\n",
    "        with_indices=False,\n",
    "        desc=\"Fingerprinting...\",\n",
    "    )\n",
    "embedded.cleanup_cache_files()"
   ]
  },
  {
   "cell_type": "code",
   "execution_count": 7,
   "metadata": {},
   "outputs": [
    {
     "ename": "AttributeError",
     "evalue": "type object 'UnionFind' has no attribute 'load'",
     "output_type": "error",
     "traceback": [
      "\u001b[0;31m---------------------------------------------------------------------------\u001b[0m",
      "\u001b[0;31mAttributeError\u001b[0m                            Traceback (most recent call last)",
      "Cell \u001b[0;32mIn[7], line 1\u001b[0m\n\u001b[0;32m----> 1\u001b[0m uf \u001b[38;5;241m=\u001b[39m UnionFind\u001b[38;5;241m.\u001b[39mload(\u001b[38;5;124m\"\u001b[39m\u001b[38;5;124m/home/wayne/kioxia/github/text-dedup/temp_output_minhash_rust/uf.json\u001b[39m\u001b[38;5;124m\"\u001b[39m)\n",
      "\u001b[0;31mAttributeError\u001b[0m: type object 'UnionFind' has no attribute 'load'"
     ]
    }
   ],
   "source": [
    "uf = UnionFind.load(\"/home/wayne/kioxia/github/text-dedup/temp_output_minhash_rust/uf.json\")"
   ]
  },
  {
   "cell_type": "code",
   "execution_count": 8,
   "metadata": {},
   "outputs": [],
   "source": [
    "uf = Emb.cluster()"
   ]
  },
  {
   "cell_type": "code",
   "execution_count": 9,
   "metadata": {},
   "outputs": [
    {
     "data": {
      "application/vnd.jupyter.widget-view+json": {
       "model_id": "0edc9cce49fd4c6f913eb51569571f0b",
       "version_major": 2,
       "version_minor": 0
      },
      "text/plain": [
       "Finding clusters... (num_proc=12):   0%|          | 0/100000 [00:00<?, ? examples/s]"
      ]
     },
     "metadata": {},
     "output_type": "display_data"
    }
   ],
   "source": [
    "ds = ds.map(\n",
    "                function=lambda record: {CLUSTER_COLUMN: uf.find(record[INDEX_COLUMN])},\n",
    "                with_indices=False,\n",
    "                num_proc=io_args.num_proc,\n",
    "                new_fingerprint=str(random.getrandbits(128)),\n",
    "                desc=\"Finding clusters...\",\n",
    "            )"
   ]
  },
  {
   "cell_type": "code",
   "execution_count": 10,
   "metadata": {},
   "outputs": [],
   "source": [
    "uf.dump(os.path.join(io_args.output, \"uf.json\"))"
   ]
  },
  {
   "cell_type": "code",
   "execution_count": 13,
   "metadata": {},
   "outputs": [],
   "source": [
    "import json\n",
    "\n",
    "data = json.load(open(\"temp_output_minhash_rust/uf.json\"))"
   ]
  },
  {
   "cell_type": "code",
   "execution_count": 8,
   "metadata": {},
   "outputs": [
    {
     "data": {
      "application/vnd.jupyter.widget-view+json": {
       "model_id": "e09877ea74134af1b8278c061aaf1611",
       "version_major": 2,
       "version_minor": 0
      },
      "text/plain": [
       "Map:   0%|          | 0/10000 [00:00<?, ? examples/s]"
      ]
     },
     "metadata": {},
     "output_type": "display_data"
    },
    {
     "name": "stdout",
     "output_type": "stream",
     "text": [
      "Number of hash tables: 50\n",
      "Clustering...\n",
      "Number of edges: 4619Number of edges: 4619\n"
     ]
    }
   ],
   "source": [
    "cluster = ds.map(\n",
    "        Emb.batch_embed_shard,\n",
    "        input_columns=[meta_args.column, INDEX_COLUMN],\n",
    "        remove_columns=[col for col in ds.column_names if col != INDEX_COLUMN],\n",
    "        batched=True,\n",
    "        batch_size=10000,\n",
    "    )"
   ]
  },
  {
   "cell_type": "code",
   "execution_count": 10,
   "metadata": {},
   "outputs": [],
   "source": [
    "LEN_EMBEDDED = len(embedded_rust)\n",
    "NUM_SHARDS = np.ceil(LEN_EMBEDDED / meta_args.batch_size).astype(int)"
   ]
  },
  {
   "cell_type": "code",
   "execution_count": 11,
   "metadata": {},
   "outputs": [],
   "source": [
    "HASH_TABLES: list[dict[int, set]] = [defaultdict(set) for _ in range(50)]"
   ]
  },
  {
   "cell_type": "code",
   "execution_count": 1,
   "metadata": {},
   "outputs": [
    {
     "ename": "NameError",
     "evalue": "name 'tqdm' is not defined",
     "output_type": "error",
     "traceback": [
      "\u001b[0;31m---------------------------------------------------------------------------\u001b[0m",
      "\u001b[0;31mNameError\u001b[0m                                 Traceback (most recent call last)",
      "Cell \u001b[0;32mIn[1], line 2\u001b[0m\n\u001b[1;32m      1\u001b[0m edges \u001b[38;5;241m=\u001b[39m []\n\u001b[0;32m----> 2\u001b[0m \u001b[38;5;28;01mfor\u001b[39;00m i \u001b[38;5;129;01min\u001b[39;00m tqdm(\n\u001b[1;32m      3\u001b[0m     \u001b[38;5;28mrange\u001b[39m(\u001b[38;5;241m0\u001b[39m, NUM_SHARDS),\n\u001b[1;32m      4\u001b[0m     dynamic_ncols\u001b[38;5;241m=\u001b[39m\u001b[38;5;28;01mTrue\u001b[39;00m,\n\u001b[1;32m      5\u001b[0m     desc\u001b[38;5;241m=\u001b[39m\u001b[38;5;124m\"\u001b[39m\u001b[38;5;124mIterating MinHashes...\u001b[39m\u001b[38;5;124m\"\u001b[39m,  \u001b[38;5;66;03m# noqa: E501\u001b[39;00m\n\u001b[1;32m      6\u001b[0m ):\n\u001b[1;32m      7\u001b[0m     embedded_shard \u001b[38;5;241m=\u001b[39m embedded_rust\u001b[38;5;241m.\u001b[39mshard(\n\u001b[1;32m      8\u001b[0m         num_shards\u001b[38;5;241m=\u001b[39mNUM_SHARDS,\n\u001b[1;32m      9\u001b[0m         index\u001b[38;5;241m=\u001b[39mi,\n\u001b[1;32m     10\u001b[0m         contiguous\u001b[38;5;241m=\u001b[39m\u001b[38;5;28;01mTrue\u001b[39;00m,\n\u001b[1;32m     11\u001b[0m         writer_batch_size\u001b[38;5;241m=\u001b[39mmeta_args\u001b[38;5;241m.\u001b[39mbatch_size,\n\u001b[1;32m     12\u001b[0m     )\n\u001b[1;32m     13\u001b[0m     \u001b[38;5;28;01mfor\u001b[39;00m key, Hs \u001b[38;5;129;01min\u001b[39;00m \u001b[38;5;28mzip\u001b[39m(embedded_shard[INDEX_COLUMN], embedded_shard[SIGNATURE_COLUMN]):\n",
      "\u001b[0;31mNameError\u001b[0m: name 'tqdm' is not defined"
     ]
    }
   ],
   "source": [
    "edges = []\n",
    "for i in tqdm(\n",
    "    range(0, NUM_SHARDS),\n",
    "    dynamic_ncols=True,\n",
    "    desc=\"Iterating MinHashes...\",  # noqa: E501\n",
    "):\n",
    "    embedded_shard = embedded_rust.shard(\n",
    "        num_shards=NUM_SHARDS,\n",
    "        index=i,\n",
    "        contiguous=True,\n",
    "        writer_batch_size=meta_args.batch_size,\n",
    "    )\n",
    "    for key, Hs in zip(embedded_shard[INDEX_COLUMN], embedded_shard[SIGNATURE_COLUMN]):\n",
    "        Emb.batch_add(Hs, key)"
   ]
  },
  {
   "cell_type": "code",
   "execution_count": null,
   "metadata": {},
   "outputs": [],
   "source": []
  },
  {
   "cell_type": "code",
   "execution_count": 13,
   "metadata": {},
   "outputs": [
    {
     "data": {
      "text/plain": [
       "0"
      ]
     },
     "execution_count": 13,
     "metadata": {},
     "output_type": "execute_result"
    }
   ],
   "source": [
    "len(edges)"
   ]
  },
  {
   "cell_type": "code",
   "execution_count": 11,
   "metadata": {},
   "outputs": [],
   "source": [
    "Emb.hash_tables"
   ]
  },
  {
   "cell_type": "code",
   "execution_count": 11,
   "metadata": {},
   "outputs": [
    {
     "data": {
      "application/vnd.jupyter.widget-view+json": {
       "model_id": "e8270315ccee42d59be9e1d333a14f57",
       "version_major": 2,
       "version_minor": 0
      },
      "text/plain": [
       "Finding clusters...:   0%|          | 0/10000 [00:00<?, ? examples/s]"
      ]
     },
     "metadata": {},
     "output_type": "display_data"
    }
   ],
   "source": [
    "ds = ds.map(\n",
    "    function=lambda record: {CLUSTER_COLUMN: Emb.uf_batch_find(record[INDEX_COLUMN])},\n",
    "    with_indices=False,\n",
    "    batched=True,\n",
    "    batch_size=meta_args.batch_size * 10,\n",
    "    new_fingerprint=str(random.getrandbits(128)),\n",
    "    desc=\"Finding clusters...\",\n",
    ")"
   ]
  }
 ],
 "metadata": {
  "kernelspec": {
   "display_name": "py_rust_dev",
   "language": "python",
   "name": "python3"
  },
  "language_info": {
   "codemirror_mode": {
    "name": "ipython",
    "version": 3
   },
   "file_extension": ".py",
   "mimetype": "text/x-python",
   "name": "python",
   "nbconvert_exporter": "python",
   "pygments_lexer": "ipython3",
   "version": "3.11.9"
  }
 },
 "nbformat": 4,
 "nbformat_minor": 2
}
