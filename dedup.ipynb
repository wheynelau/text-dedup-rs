{
 "cells": [
  {
   "cell_type": "code",
   "execution_count": 1,
   "metadata": {},
   "outputs": [],
   "source": [
    "import os\n",
    "import pickle  # nosec\n",
    "import subprocess  # nosec\n",
    "from collections import defaultdict\n",
    "\n",
    "import click\n",
    "import datasets\n",
    "import pandas as pd\n",
    "from datasets import Features\n",
    "from datasets import Sequence\n",
    "from datasets import Value\n",
    "\n",
    "from text_dedup.ann_unisim import main as unisim_main\n",
    "from text_dedup.minhash import main as minhash_main\n",
    "from text_dedup.simhash import main as simhash_main\n",
    "from text_dedup.utils import IOArgs\n",
    "from text_dedup.utils import MetaArgs\n",
    "from text_dedup.utils import MinHashArgs\n",
    "from text_dedup.utils import SimHashArgs\n",
    "from text_dedup.utils import Timer\n",
    "from text_dedup.utils import UnionFind\n",
    "from text_dedup.utils import UniSimArgs\n",
    "\n",
    "NUM_PROC = os.cpu_count()"
   ]
  },
  {
   "cell_type": "code",
   "execution_count": 4,
   "metadata": {},
   "outputs": [
    {
     "data": {
      "application/vnd.jupyter.widget-view+json": {
       "model_id": "3b93532996a1494293db94fe95ab2fcf",
       "version_major": 2,
       "version_minor": 0
      },
      "text/plain": [
       "Map (num_proc=6):   0%|          | 0/100000 [00:00<?, ? examples/s]"
      ]
     },
     "metadata": {},
     "output_type": "display_data"
    }
   ],
   "source": [
    "ds = datasets.load_from_disk(\"temp_inp_ds\")\n",
    "truth = ds.map(\n",
    "    lambda x, idx: {\"core_id\": x[\"core_id\"], \"id\": idx, \"duplicates\": x[\"labelled_duplicates\"]},\n",
    "    remove_columns=ds.column_names,\n",
    "    with_indices=True,\n",
    "    num_proc=NUM_PROC,\n",
    "    features=Features(\n",
    "        {\n",
    "            \"core_id\": Value(\"string\"),\n",
    "            \"id\": Value(\"int64\"),\n",
    "            \"duplicates\": Sequence(Value(\"string\")),\n",
    "        }\n",
    "    ),\n",
    ")"
   ]
  },
  {
   "cell_type": "code",
   "execution_count": 6,
   "metadata": {},
   "outputs": [],
   "source": [
    "import polars as pl\n",
    "\n",
    "\n",
    "df = pl.read_parquet(\"/home/wayne/kioxia/github/text-dedup/temp_inp_paruqet/data.parquet\")"
   ]
  },
  {
   "cell_type": "code",
   "execution_count": 8,
   "metadata": {},
   "outputs": [
    {
     "data": {
      "text/plain": [
       "100000"
      ]
     },
     "execution_count": 8,
     "metadata": {},
     "output_type": "execute_result"
    }
   ],
   "source": [
    "len(df)"
   ]
  },
  {
   "cell_type": "code",
   "execution_count": 26,
   "metadata": {},
   "outputs": [
    {
     "name": "stderr",
     "output_type": "stream",
     "text": [
      "/tmp/ipykernel_21013/3664851347.py:1: MapWithoutReturnDtypeWarning: Calling `map_elements` without specifying `return_dtype` can lead to unpredictable results. Specify `return_dtype` to silence this warning.\n",
      "  df['labelled_duplicates'].map_elements(lambda s: len(s)) > 0\n"
     ]
    },
    {
     "data": {
      "text/html": [
       "<div><style>\n",
       ".dataframe > thead > tr,\n",
       ".dataframe > tbody > tr {\n",
       "  text-align: right;\n",
       "  white-space: pre-wrap;\n",
       "}\n",
       "</style>\n",
       "<small>shape: (100_000,)</small><table border=\"1\" class=\"dataframe\"><thead><tr><th>labelled_duplicates</th></tr><tr><td>bool</td></tr></thead><tbody><tr><td>true</td></tr><tr><td>true</td></tr><tr><td>true</td></tr><tr><td>true</td></tr><tr><td>true</td></tr><tr><td>&hellip;</td></tr><tr><td>false</td></tr><tr><td>false</td></tr><tr><td>false</td></tr><tr><td>false</td></tr><tr><td>false</td></tr></tbody></table></div>"
      ],
      "text/plain": [
       "shape: (100_000,)\n",
       "Series: 'labelled_duplicates' [bool]\n",
       "[\n",
       "\ttrue\n",
       "\ttrue\n",
       "\ttrue\n",
       "\ttrue\n",
       "\ttrue\n",
       "\t…\n",
       "\tfalse\n",
       "\tfalse\n",
       "\tfalse\n",
       "\tfalse\n",
       "\tfalse\n",
       "]"
      ]
     },
     "execution_count": 26,
     "metadata": {},
     "output_type": "execute_result"
    }
   ],
   "source": [
    "df['labelled_duplicates'].map_elements(lambda s: len(s)) > 0"
   ]
  },
  {
   "cell_type": "code",
   "execution_count": null,
   "metadata": {},
   "outputs": [],
   "source": []
  }
 ],
 "metadata": {
  "kernelspec": {
   "display_name": "text-dedup",
   "language": "python",
   "name": "python3"
  },
  "language_info": {
   "codemirror_mode": {
    "name": "ipython",
    "version": 3
   },
   "file_extension": ".py",
   "mimetype": "text/x-python",
   "name": "python",
   "nbconvert_exporter": "python",
   "pygments_lexer": "ipython3",
   "version": "3.11.9"
  }
 },
 "nbformat": 4,
 "nbformat_minor": 2
}
