{
 "cells": [
  {
   "cell_type": "code",
   "execution_count": 1,
   "metadata": {},
   "outputs": [],
   "source": [
    "from itertools import tee\n",
    "from typing import List\n",
    "def ngrams(sequence: List[str], n: int, min_length: int = 5):\n",
    "    \"\"\"\n",
    "    Return the ngrams generated from a sequence of items, as an iterator.\n",
    "\n",
    "    This is a modified version of nltk.util.ngrams.\n",
    "\n",
    "    Parameters\n",
    "    ----------\n",
    "    sequence : List[Text]\n",
    "        The sequence of items.\n",
    "    n : int\n",
    "        The length of each ngram.\n",
    "    min_length : int, optional\n",
    "        The minimum length of each ngram, by default 5\n",
    "\n",
    "    Returns\n",
    "    -------\n",
    "    iterator\n",
    "        The ngrams.\n",
    "\n",
    "    Examples\n",
    "    --------\n",
    "    >>> list(ngrams([\"a\", \"b\", \"c\", \"d\"], 2, min_length=1))\n",
    "    [('a', 'b'), ('b', 'c'), ('c', 'd')]\n",
    "    >>> list(ngrams([\"a\", \"b\", \"c\", \"d\"], 2, min_length=5))\n",
    "    []\n",
    "    >>> list(ngrams([\"a\", \"b\"], 3, min_length=1))\n",
    "    [('a', 'b')]\n",
    "    \"\"\"\n",
    "    if len(sequence) < min_length:\n",
    "        return []\n",
    "    if len(sequence) < n:\n",
    "        return [tuple(sequence)]\n",
    "    iterables = tee(iter(sequence), n)\n",
    "    for i, sub_iterable in enumerate(iterables):\n",
    "        for _ in range(i):\n",
    "            next(sub_iterable, None)\n",
    "    return zip(*iterables)\n"
   ]
  },
  {
   "cell_type": "code",
   "execution_count": 2,
   "metadata": {},
   "outputs": [],
   "source": [
    "import hashlib\n",
    "import struct\n",
    "\n",
    "def sha1_hash(data: bytes, d: int = 32) -> int:\n",
    "    \"\"\"\n",
    "    Generate a d-bit hash value from the given data.\n",
    "\n",
    "    Parameters\n",
    "    ----------\n",
    "    data : bytes\n",
    "        The data to be hashed.\n",
    "    d : int\n",
    "        The number of bits of the hash value.\n",
    "\n",
    "    Returns\n",
    "    -------\n",
    "    int\n",
    "        The hash value.\n",
    "\n",
    "    Examples\n",
    "    --------\n",
    "    >>> sha1_hash(b\"hello world\", 32)\n",
    "    896314922\n",
    "    >>> sha1_hash(b\"hello world\", 64)\n",
    "    13028719972609469994\n",
    "    >>> sha1_hash(b\"hello world\", 128)\n",
    "    310522945683037930239412421226792791594\n",
    "    \"\"\"\n",
    "    if d == 32:\n",
    "        return struct.unpack(\"<I\", hashlib.sha1(data, usedforsecurity=False).digest()[:4])[0]\n",
    "    if d == 64:\n",
    "        return struct.unpack(\"<Q\", hashlib.sha1(data, usedforsecurity=False).digest()[:8])[0]\n",
    "    # struct is faster but does not support arbitrary bit lengths\n",
    "    return int.from_bytes(hashlib.sha1(data, usedforsecurity=False).digest()[: d // 8], byteorder=\"little\")\n"
   ]
  },
  {
   "cell_type": "code",
   "execution_count": 3,
   "metadata": {},
   "outputs": [],
   "source": [
    "import re\n",
    "import numpy as np\n",
    "SEED = 42\n",
    "RNG = np.random.RandomState(SEED)\n",
    "NON_ALPHA = re.compile(r\"\\W\", re.UNICODE)\n",
    "SIGNATURE_COLUMN = \"__signatures__\"\n",
    "content = \"But I must explain to you how all this mistaken idea of denouncing pleasure and praising pain was born and I will give you a complete account of the system, and expound the actual teachings of the great explorer of the truth, the master-builder of human happiness. No one rejects, dislikes, or avoids pleasure itself, because it is pleasure, but because those who do not know how to pursue pleasure rationally encounter consequences that are extremely painful. Nor again is there anyone who loves or pursues or desires to obtain pain of itself, because it is pain, but because occasionally circumstances occur in which toil and pain can procure him some great pleasure. To take a trivial example, which of us ever undertakes laborious physical exercise, except to obtain some advantage from it? But who has any right to find fault with a man who chooses to enjoy a pleasure that has no annoying consequences, or one who avoids a pain that produces no resultant pleasure?\"\n",
    "\n",
    "tokens: set[bytes] = {\n",
    "        bytes(\" \".join(t).lower(), \"utf-8\") for t in ngrams(NON_ALPHA.split(content.lower()), 3, 5)\n",
    "    }\n",
    "\n",
    "hashvalues: np.ndarray = np.array([sha1_hash(token) for token in tokens], dtype=np.uint64).reshape(len(tokens), 1)\n"
   ]
  },
  {
   "cell_type": "code",
   "execution_count": 4,
   "metadata": {},
   "outputs": [],
   "source": [
    "dtype, max_hash, modulo_prime =  (np.uint64, np.uint32((1 << 32) - 1), np.uint64((1 << 61) - 1))"
   ]
  },
  {
   "cell_type": "code",
   "execution_count": 5,
   "metadata": {},
   "outputs": [],
   "source": [
    "PERMUTATIONS: tuple[np.ndarray, np.ndarray] = (\n",
    "        RNG.randint(\n",
    "            1, modulo_prime, size=(200,), dtype=dtype\n",
    "        ),  # a is a multiplier so should not be 0\n",
    "        RNG.randint(0, modulo_prime, size=(200,), dtype=dtype),  # b\n",
    "    )"
   ]
  },
  {
   "cell_type": "code",
   "execution_count": 7,
   "metadata": {},
   "outputs": [],
   "source": [
    "def sample():\n",
    "    sample = np.array([[1,2,3]])\n",
    "    a = np.array([1,2,3,4,5])\n",
    "    b = np.array([1,3,5,6,7])\n",
    "    print(a.shape)\n",
    "    print(b.shape)\n",
    "    print(f\"{sample.T * a}\")\n",
    "    \n",
    "    print(f\"{sample.T * a + b}\")"
   ]
  },
  {
   "cell_type": "code",
   "execution_count": 8,
   "metadata": {},
   "outputs": [],
   "source": [
    "b = np.array([1,1,1,1,1])"
   ]
  },
  {
   "cell_type": "code",
   "execution_count": 9,
   "metadata": {},
   "outputs": [],
   "source": [
    "a,b = PERMUTATIONS\n",
    "hashvalues_after_ab = (hashvalues * a + b) % modulo_prime & max_hash"
   ]
  },
  {
   "cell_type": "code",
   "execution_count": 11,
   "metadata": {},
   "outputs": [
    {
     "data": {
      "text/plain": [
       "(177, 200)"
      ]
     },
     "execution_count": 11,
     "metadata": {},
     "output_type": "execute_result"
    }
   ],
   "source": [
    "hashvalues_after_ab.shape"
   ]
  },
  {
   "cell_type": "code",
   "execution_count": 12,
   "metadata": {},
   "outputs": [],
   "source": [
    "masks: np.ndarray = np.full(shape=200, dtype=dtype, fill_value=max_hash)"
   ]
  },
  {
   "cell_type": "code",
   "execution_count": 29,
   "metadata": {},
   "outputs": [
    {
     "data": {
      "text/plain": [
       "(177, 200)"
      ]
     },
     "execution_count": 29,
     "metadata": {},
     "output_type": "execute_result"
    }
   ],
   "source": [
    "hashvalues_after_ab.shape"
   ]
  },
  {
   "cell_type": "code",
   "execution_count": 27,
   "metadata": {},
   "outputs": [],
   "source": [
    "hashvalues_after_mask = np.vstack([hashvalues_after_ab, masks]).min(axis=0)"
   ]
  },
  {
   "cell_type": "code",
   "execution_count": 28,
   "metadata": {},
   "outputs": [
    {
     "data": {
      "text/plain": [
       "(200,)"
      ]
     },
     "execution_count": 28,
     "metadata": {},
     "output_type": "execute_result"
    }
   ],
   "source": [
    "hashvalues_after_mask.shape "
   ]
  },
  {
   "cell_type": "code",
   "execution_count": 21,
   "metadata": {},
   "outputs": [],
   "source": [
    "from text_dedup.utils.analysis import optimal_param\n",
    "\n",
    "B, R = optimal_param(0.5, 200,0.5,0.5)\n",
    "\n",
    "hashranges = [(i * R, (i + 1) * R) for i in range(B)]\n",
    "\n",
    "Hs: list[bytes] = [bytes(hashvalues[start:end].byteswap().data) for start, end in hashranges]"
   ]
  },
  {
   "cell_type": "code",
   "execution_count": 32,
   "metadata": {},
   "outputs": [],
   "source": [
    "start, end = hashranges[0]"
   ]
  },
  {
   "cell_type": "code",
   "execution_count": 35,
   "metadata": {},
   "outputs": [
    {
     "data": {
      "text/plain": [
       "array([[2169222163],\n",
       "       [ 589797548],\n",
       "       [ 657804509],\n",
       "       [3661243181],\n",
       "       [2206766972],\n",
       "       [2577906337]], dtype=uint64)"
      ]
     },
     "execution_count": 35,
     "metadata": {},
     "output_type": "execute_result"
    }
   ],
   "source": [
    "hashvalues[start:end]"
   ]
  },
  {
   "cell_type": "code",
   "execution_count": 38,
   "metadata": {},
   "outputs": [
    {
     "data": {
      "text/plain": [
       "b\"\\x00\\x00\\x00\\x00\\x81K\\xb4\\x13\\x00\\x00\\x00\\x00#'\\x98\\xac\\x00\\x00\\x00\\x00'5L\\xdd\\x00\\x00\\x00\\x00\\xda:#-\\x00\\x00\\x00\\x00\\x83\\x88\\x97|\\x00\\x00\\x00\\x00\\x99\\xa7\\xba\\xa1\""
      ]
     },
     "execution_count": 38,
     "metadata": {},
     "output_type": "execute_result"
    }
   ],
   "source": [
    "bytes(hashvalues[start:end].byteswap().data)"
   ]
  },
  {
   "cell_type": "code",
   "execution_count": null,
   "metadata": {},
   "outputs": [],
   "source": []
  }
 ],
 "metadata": {
  "kernelspec": {
   "display_name": "text-dedup",
   "language": "python",
   "name": "python3"
  },
  "language_info": {
   "codemirror_mode": {
    "name": "ipython",
    "version": 3
   },
   "file_extension": ".py",
   "mimetype": "text/x-python",
   "name": "python",
   "nbconvert_exporter": "python",
   "pygments_lexer": "ipython3",
   "version": "3.11.9"
  }
 },
 "nbformat": 4,
 "nbformat_minor": 2
}
