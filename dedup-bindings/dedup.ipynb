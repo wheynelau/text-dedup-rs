{
 "cells": [
  {
   "cell_type": "code",
   "execution_count": 1,
   "metadata": {},
   "outputs": [],
   "source": [
    "import dedup_bindings"
   ]
  },
  {
   "cell_type": "code",
   "execution_count": 2,
   "metadata": {},
   "outputs": [],
   "source": [
    "import polars as pl\n",
    "\n",
    "\n",
    "df = pl.read_parquet(\"/home/wayne/kioxia/github/text-dedup/temp_inp_paruqet/data.parquet\")[:1000]"
   ]
  },
  {
   "cell_type": "code",
   "execution_count": 3,
   "metadata": {},
   "outputs": [],
   "source": [
    "def shingle (text: str, k: int):\n",
    "    text = text.lower()\n",
    "    shingles = []\n",
    "    for i in range(len(text) - k + 1):\n",
    "        shingles.append(text[i:i+k])\n",
    "    return set(shingles)"
   ]
  },
  {
   "cell_type": "code",
   "execution_count": 4,
   "metadata": {},
   "outputs": [
    {
     "name": "stderr",
     "output_type": "stream",
     "text": [
      "/tmp/ipykernel_16611/3254413304.py:1: MapWithoutReturnDtypeWarning: Calling `map_elements` without specifying `return_dtype` can lead to unpredictable results. Specify `return_dtype` to silence this warning.\n",
      "  rust_impl = df['text'].map_elements(lambda s: dedup_bindings.shingle(s, 3))\n"
     ]
    }
   ],
   "source": [
    "rust_impl = df['text'].map_elements(lambda s: dedup_bindings.shingle(s, 3))"
   ]
  },
  {
   "cell_type": "code",
   "execution_count": 5,
   "metadata": {},
   "outputs": [
    {
     "name": "stderr",
     "output_type": "stream",
     "text": [
      "/tmp/ipykernel_16611/4050695236.py:1: MapWithoutReturnDtypeWarning: Calling `map_elements` without specifying `return_dtype` can lead to unpredictable results. Specify `return_dtype` to silence this warning.\n",
      "  py_impl = df['text'].map_elements(lambda s: shingle(s, 3))\n"
     ]
    }
   ],
   "source": [
    "py_impl = df['text'].map_elements(lambda s: shingle(s, 3))"
   ]
  },
  {
   "cell_type": "code",
   "execution_count": 6,
   "metadata": {},
   "outputs": [],
   "source": [
    "vocab = set()\n",
    "for i in range(len(rust_impl)):\n",
    "    vocab.update(rust_impl[i])\n",
    "vocab = tuple(vocab)"
   ]
  },
  {
   "cell_type": "code",
   "execution_count": 12,
   "metadata": {},
   "outputs": [],
   "source": [
    "one_hot = [1 if x in rust_impl[0] else 0 for x in vocab]\n",
    "hashex = list(range(len(vocab)))"
   ]
  },
  {
   "cell_type": "code",
   "execution_count": 13,
   "metadata": {},
   "outputs": [],
   "source": [
    "from random import shuffle\n",
    "shuffle(hashex)"
   ]
  },
  {
   "cell_type": "code",
   "execution_count": 14,
   "metadata": {},
   "outputs": [
    {
     "name": "stdout",
     "output_type": "stream",
     "text": [
      "1 -> 7508\n",
      "2 -> 3016\n",
      "3 -> 4345\n",
      "4 -> 5737\n",
      "5 -> 5624\n",
      "6 -> 1706\n",
      "7 -> 3608\n",
      "8 -> 6108\n",
      "9 -> 5680\n"
     ]
    }
   ],
   "source": [
    "for i in range(1, 10):\n",
    "    print(f\"{i} -> {hashex.index(i)}\")"
   ]
  },
  {
   "cell_type": "code",
   "execution_count": 15,
   "metadata": {},
   "outputs": [
    {
     "name": "stdout",
     "output_type": "stream",
     "text": [
      "1 -> 7508 -> 0\n",
      "2 -> 3016 -> 0\n",
      "3 -> 4345 -> 0\n",
      "4 -> 5737 -> 0\n",
      "5 -> 5624 -> 0\n",
      "6 -> 1706 -> 0\n",
      "7 -> 3608 -> 0\n",
      "8 -> 6108 -> 0\n",
      "9 -> 5680 -> 0\n",
      "10 -> 5480 -> 0\n",
      "11 -> 8411 -> 1\n"
     ]
    }
   ],
   "source": [
    "for i in range(1, len(vocab)+1):\n",
    "    idx = hashex.index(i)\n",
    "    sig_val = one_hot[idx]\n",
    "    print(f\"{i} -> {idx} -> {sig_val}\")\n",
    "    if sig_val == 1:\n",
    "        break"
   ]
  },
  {
   "cell_type": "code",
   "execution_count": 7,
   "metadata": {},
   "outputs": [
    {
     "data": {
      "text/plain": [
       "2305843009213693951"
      ]
     },
     "execution_count": 7,
     "metadata": {},
     "output_type": "execute_result"
    }
   ],
   "source": [
    "import numpy as np\n",
    "2**61-1"
   ]
  },
  {
   "cell_type": "code",
   "execution_count": 4,
   "metadata": {},
   "outputs": [],
   "source": [
    "from itertools import tee\n",
    "from typing import List\n",
    "def ngrams(sequence: List[str], n: int, min_length: int = 5):\n",
    "    \"\"\"\n",
    "    Return the ngrams generated from a sequence of items, as an iterator.\n",
    "\n",
    "    This is a modified version of nltk.util.ngrams.\n",
    "\n",
    "    Parameters\n",
    "    ----------\n",
    "    sequence : List[Text]\n",
    "        The sequence of items.\n",
    "    n : int\n",
    "        The length of each ngram.\n",
    "    min_length : int, optional\n",
    "        The minimum length of each ngram, by default 5\n",
    "\n",
    "    Returns\n",
    "    -------\n",
    "    iterator\n",
    "        The ngrams.\n",
    "\n",
    "    Examples\n",
    "    --------\n",
    "    >>> list(ngrams([\"a\", \"b\", \"c\", \"d\"], 2, min_length=1))\n",
    "    [('a', 'b'), ('b', 'c'), ('c', 'd')]\n",
    "    >>> list(ngrams([\"a\", \"b\", \"c\", \"d\"], 2, min_length=5))\n",
    "    []\n",
    "    >>> list(ngrams([\"a\", \"b\"], 3, min_length=1))\n",
    "    [('a', 'b')]\n",
    "    \"\"\"\n",
    "    if len(sequence) < min_length:\n",
    "        return []\n",
    "    if len(sequence) < n:\n",
    "        return [tuple(sequence)]\n",
    "    iterables = tee(iter(sequence), n)\n",
    "    for i, sub_iterable in enumerate(iterables):\n",
    "        for _ in range(i):\n",
    "            next(sub_iterable, None)\n",
    "    return zip(*iterables)\n"
   ]
  },
  {
   "cell_type": "code",
   "execution_count": 5,
   "metadata": {},
   "outputs": [],
   "source": [
    "import hashlib\n",
    "import struct\n",
    "\n",
    "def sha1_hash(data: bytes, d: int = 32) -> int:\n",
    "    \"\"\"\n",
    "    Generate a d-bit hash value from the given data.\n",
    "\n",
    "    Parameters\n",
    "    ----------\n",
    "    data : bytes\n",
    "        The data to be hashed.\n",
    "    d : int\n",
    "        The number of bits of the hash value.\n",
    "\n",
    "    Returns\n",
    "    -------\n",
    "    int\n",
    "        The hash value.\n",
    "\n",
    "    Examples\n",
    "    --------\n",
    "    >>> sha1_hash(b\"hello world\", 32)\n",
    "    896314922\n",
    "    >>> sha1_hash(b\"hello world\", 64)\n",
    "    13028719972609469994\n",
    "    >>> sha1_hash(b\"hello world\", 128)\n",
    "    310522945683037930239412421226792791594\n",
    "    \"\"\"\n",
    "    if d == 32:\n",
    "        return struct.unpack(\"<I\", hashlib.sha1(data, usedforsecurity=False).digest()[:4])[0]\n",
    "    if d == 64:\n",
    "        return struct.unpack(\"<Q\", hashlib.sha1(data, usedforsecurity=False).digest()[:8])[0]\n",
    "    # struct is faster but does not support arbitrary bit lengths\n",
    "    return int.from_bytes(hashlib.sha1(data, usedforsecurity=False).digest()[: d // 8], byteorder=\"little\")\n"
   ]
  },
  {
   "cell_type": "code",
   "execution_count": 6,
   "metadata": {},
   "outputs": [],
   "source": [
    "import re\n",
    "import numpy as np\n",
    "NON_ALPHA = re.compile(r\"\\W\", re.UNICODE)\n",
    "content = \"But I must explain to you how all this mistaken idea of denouncing pleasure and praising pain was born and I will give you a complete account of the system, and expound the actual teachings of the great explorer of the truth, the master-builder of human happiness. No one rejects, dislikes, or avoids pleasure itself, because it is pleasure, but because those who do not know how to pursue pleasure rationally encounter consequences that are extremely painful. Nor again is there anyone who loves or pursues or desires to obtain pain of itself, because it is pain, but because occasionally circumstances occur in which toil and pain can procure him some great pleasure. To take a trivial example, which of us ever undertakes laborious physical exercise, except to obtain some advantage from it? But who has any right to find fault with a man who chooses to enjoy a pleasure that has no annoying consequences, or one who avoids a pain that produces no resultant pleasure?\"\n",
    "\n",
    "tokens: set[bytes] = {\n",
    "        bytes(\" \".join(t).lower(), \"utf-8\") for t in ngrams(NON_ALPHA.split(content.lower()), 3, 5)\n",
    "    }\n",
    "\n",
    "hashvalues: np.ndarray = np.array([sha1_hash(token) for token in tokens], dtype=np.uint64).reshape(len(tokens), 1)\n"
   ]
  },
  {
   "cell_type": "code",
   "execution_count": 1,
   "metadata": {},
   "outputs": [
    {
     "ename": "NameError",
     "evalue": "name 'np' is not defined",
     "output_type": "error",
     "traceback": [
      "\u001b[0;31m---------------------------------------------------------------------------\u001b[0m",
      "\u001b[0;31mNameError\u001b[0m                                 Traceback (most recent call last)",
      "Cell \u001b[0;32mIn[1], line 4\u001b[0m\n\u001b[1;32m      1\u001b[0m \u001b[38;5;66;03m# Permute the hash values to produce new universal hashes\u001b[39;00m\n\u001b[1;32m      2\u001b[0m \u001b[38;5;66;03m# Element-wise multiplication with 'hashvalues' and a (non 0 random value) and then adding b\u001b[39;00m\n\u001b[1;32m      3\u001b[0m \u001b[38;5;66;03m# Then, take modulo 'MODULO_PRIME' and bitwise_and with 'MAX_HASH' to keep only the necessary bits.\u001b[39;00m\n\u001b[0;32m----> 4\u001b[0m max_hash \u001b[38;5;241m=\u001b[39m np\u001b[38;5;241m.\u001b[39muint32((\u001b[38;5;241m1\u001b[39m \u001b[38;5;241m<<\u001b[39m \u001b[38;5;241m32\u001b[39m) \u001b[38;5;241m-\u001b[39m \u001b[38;5;241m1\u001b[39m)\n\u001b[1;32m      5\u001b[0m modulo_prime \u001b[38;5;241m=\u001b[39m np\u001b[38;5;241m.\u001b[39muint64((\u001b[38;5;241m1\u001b[39m \u001b[38;5;241m<<\u001b[39m \u001b[38;5;241m61\u001b[39m) \u001b[38;5;241m-\u001b[39m \u001b[38;5;241m1\u001b[39m)\n\u001b[1;32m      6\u001b[0m PERMUTATIONS: \u001b[38;5;28mtuple\u001b[39m[np\u001b[38;5;241m.\u001b[39mndarray, np\u001b[38;5;241m.\u001b[39mndarray] \u001b[38;5;241m=\u001b[39m (\n\u001b[1;32m      7\u001b[0m RNG\u001b[38;5;241m.\u001b[39mrandint(\n\u001b[1;32m      8\u001b[0m     \u001b[38;5;241m1\u001b[39m, MODULO_PRIME, size\u001b[38;5;241m=\u001b[39m(minhash_args\u001b[38;5;241m.\u001b[39mnum_perm,), dtype\u001b[38;5;241m=\u001b[39mDTYPE\n\u001b[1;32m      9\u001b[0m ),  \u001b[38;5;66;03m# a is a multiplier so should not be 0\u001b[39;00m\n\u001b[1;32m     10\u001b[0m RNG\u001b[38;5;241m.\u001b[39mrandint(\u001b[38;5;241m0\u001b[39m, MODULO_PRIME, size\u001b[38;5;241m=\u001b[39m(minhash_args\u001b[38;5;241m.\u001b[39mnum_perm,), dtype\u001b[38;5;241m=\u001b[39mDTYPE),  \u001b[38;5;66;03m# b\u001b[39;00m\n\u001b[1;32m     11\u001b[0m )\n",
      "\u001b[0;31mNameError\u001b[0m: name 'np' is not defined"
     ]
    }
   ],
   "source": [
    "# Permute the hash values to produce new universal hashes\n",
    "# Element-wise multiplication with 'hashvalues' and a (non 0 random value) and then adding b\n",
    "# Then, take modulo 'MODULO_PRIME' and bitwise_and with 'MAX_HASH' to keep only the necessary bits.\n",
    "max_hash = np.uint32((1 << 32) - 1)\n",
    "modulo_prime = np.uint64((1 << 61) - 1)\n",
    "PERMUTATIONS: tuple[np.ndarray, np.ndarray] = (\n",
    "RNG.randint(\n",
    "    1, MODULO_PRIME, size=(minhash_args.num_perm,), dtype=DTYPE\n",
    "),  # a is a multiplier so should not be 0\n",
    "RNG.randint(0, MODULO_PRIME, size=(minhash_args.num_perm,), dtype=DTYPE),  # b\n",
    ")\n",
    "\n",
    "hashvalues = (hashvalues * a + b) % modulo_prime & max_hash"
   ]
  },
  {
   "cell_type": "code",
   "execution_count": 27,
   "metadata": {},
   "outputs": [],
   "source": [
    "rust = {\"a complete account\", \"a man who\", \"a pain that\", \"a pleasure that\", \"a trivial example\", \"account of the\", \"actual teachings of\", \"advantage from it\", \"again is there\", \"all this mistaken\", \"and expound the\", \"and i will\", \"and pain can\", \"and praising pain\", \"annoying consequences or\", \"any right to\", \"anyone who loves\", \"are extremely painful\", \"avoids a pain\", \"avoids pleasure itself\", \"because it is\", \"because occasionally circumstances\", \"because those who\", \"born and i\", \"builder of human\", \"but because occasionally\", \"but because those\", \"but i must\", \"but who has\", \"can procure him\", \"chooses to enjoy\", \"circumstances occur in\", \"complete account of\", \"consequences or one\", \"consequences that are\", \"denouncing pleasure and\", \"desires to obtain\", \"dislikes or avoids\", \"do not know\", \"encounter consequences that\", \"enjoy a pleasure\", \"ever undertakes laborious\", \"example which of\", \"except to obtain\", \"exercise except to\", \"explain to you\", \"explorer of the\", \"expound the actual\", \"extremely painful nor\", \"fault with a\", \"find fault with\", \"from it but\", \"give you a\", \"great explorer of\", \"great pleasure to\", \"happiness no one\", \"has any right\", \"has no annoying\", \"him some great\", \"how all this\", \"how to pursue\", \"human happiness no\", \"i must explain\", \"i will give\", \"idea of denouncing\", \"in which toil\", \"is pain but\", \"is pleasure but\", \"is there anyone\", \"it but who\", \"it is pain\", \"it is pleasure\", \"itself because it\", \"know how to\", \"laborious physical exercise\", \"loves or pursues\", \"man who chooses\", \"master builder of\", \"mistaken idea of\", \"must explain to\", \"no annoying consequences\", \"no one rejects\", \"no resultant pleasure\", \"nor again is\", \"not know how\", \"obtain pain of\", \"obtain some advantage\", \"occasionally circumstances occur\", \"occur in which\", \"of denouncing pleasure\", \"of human happiness\", \"of itself because\", \"of the great\", \"of the system\", \"of the truth\", \"of us ever\", \"one rejects dislikes\", \"one who avoids\", \"or avoids pleasure\", \"or desires to\", \"or one who\", \"or pursues or\", \"pain but because\", \"pain can procure\", \"pain of itself\", \"pain that produces\", \"pain was born\", \"painful nor again\", \"physical exercise except\", \"pleasure and praising\", \"pleasure but because\", \"pleasure itself because\", \"pleasure rationally encounter\", \"pleasure that has\", \"pleasure to take\", \"praising pain was\", \"procure him some\", \"produces no resultant\", \"pursue pleasure rationally\", \"pursues or desires\", \"rationally encounter consequences\", \"rejects dislikes or\", \"right to find\", \"some advantage from\", \"some great pleasure\", \"system and expound\", \"take a trivial\", \"teachings of the\", \"that are extremely\", \"that has no\", \"that produces no\", \"the actual teachings\", \"the great explorer\", \"the master builder\", \"the system and\", \"the truth the\", \"there anyone who\", \"this mistaken idea\", \"those who do\", \"to enjoy a\", \"to find fault\", \"to obtain pain\", \"to obtain some\", \"to pursue pleasure\", \"to take a\", \"to you how\", \"toil and pain\", \"trivial example which\", \"truth the master\", \"undertakes laborious physical\", \"us ever undertakes\", \"was born and\", \"which of us\", \"which toil and\", \"who avoids a\", \"who chooses to\", \"who do not\", \"who has any\", \"who loves or\", \"will give you\", \"with a man\", \"you a complete\", \"you how all\"}"
   ]
  },
  {
   "cell_type": "code",
   "execution_count": 4,
   "metadata": {},
   "outputs": [
    {
     "data": {
      "text/plain": [
       "4294967295"
      ]
     },
     "execution_count": 4,
     "metadata": {},
     "output_type": "execute_result"
    }
   ],
   "source": [
    "2**32 - 1"
   ]
  },
  {
   "cell_type": "code",
   "execution_count": 5,
   "metadata": {},
   "outputs": [],
   "source": [
    "import numpy as np\n",
    "MODULO_PRIME = 2 ** 61 - 1\n",
    "SEED = 42\n",
    "DTYPE = np.uint64\n",
    "RNG = np.random.RandomState(SEED)\n",
    "SIGNATURE_COLUMN = \"__signatures__\"\n",
    "\n",
    "PERMUTATIONS: tuple[np.ndarray, np.ndarray] = (\n",
    "        RNG.randint(\n",
    "            1, MODULO_PRIME, size=(200,), dtype=DTYPE\n",
    "        ),  # a is a multiplier so should not be 0\n",
    "        RNG.randint(0, MODULO_PRIME, size=(200,), dtype=DTYPE),  # b\n",
    ")"
   ]
  },
  {
   "cell_type": "code",
   "execution_count": 6,
   "metadata": {},
   "outputs": [
    {
     "data": {
      "text/plain": [
       "(array([2297359619001564596, 1396682528897996047, 1973689801170867272,\n",
       "        1819927849474927637,  572192888165898362,  571748048327668951,\n",
       "        1071453510346823115, 2143071682933157237, 1865242737500154728,\n",
       "        1532418594269339779,  379716980844854581, 1750777661071092056,\n",
       "        1520798217888136606, 1611122243678701954, 1048235628103308220,\n",
       "        1077373049702139041, 1000592739665268026,  456675647751657725,\n",
       "        1050450229337746265,  760543396461257179, 2063321781277379071,\n",
       "         267364570529679360,  777431531920034492, 2146497176616232719,\n",
       "        1495477363401685950,  648881935158774718, 1377488174878099308,\n",
       "         262579006026876148, 1704747971477620217,  856858769658023397,\n",
       "        1983852346201383559,  839771884757445449, 1199990111390225682,\n",
       "        1362947483897176665, 1671865959972055054, 1077240956986238970,\n",
       "        1007446255075745114, 1801732545371167618, 1092656530294298716,\n",
       "        1201851346935503804, 2251208029941317036, 2216872713715991304,\n",
       "         634356285132873763,  633099677421309009,  161962062168655410,\n",
       "         692163906031803780, 1138368374822601726,  370189644521515574,\n",
       "         861652531725782788, 1104119908775765469, 1744778438383761810,\n",
       "         463618807884355116, 1189795419742834890,  365750060173591524,\n",
       "        1805935812952358751,  864677038069918991, 1632398491907562958,\n",
       "        1309402721808639228,  834296198785359550, 1389599250197995221,\n",
       "         252301427447193325,  393820126512235375, 1452450688103961368,\n",
       "        1969251275389991129,  570641018389960892,  787603798186516973,\n",
       "         293750097594324125,  962864383515356973, 1375216642409152345,\n",
       "        2063949654057552393,  410343612402300033, 1359814319648410248,\n",
       "         101865178233748543, 1207550233880778227, 1510001446519210376,\n",
       "        1918593514066211235,  392368560994791803, 1365882634414198250,\n",
       "        2000839474307464186, 2137406799659846684, 2086389863579132105,\n",
       "        2274448960578859788, 1492305152117099553, 1172444636525752823,\n",
       "        1124925287146532414, 1386887510159385381, 1929643330193279660,\n",
       "         231644453789772502,  225285373686556195, 1793298793622896355,\n",
       "        2206124335314378671, 1627828948548348547,  198948935564477445,\n",
       "        1130364857072845303,  386776297324261774, 2191391983603931931,\n",
       "         419346625420198095,  969210764397336410,  468900105785203580,\n",
       "        1990245566174715571,  579766154391765856,  210484898835848433,\n",
       "        1187158319135118333,  158101386990278532,  600745515900680677,\n",
       "        2292786955474901223,  652699705481037455,  102400447934616093,\n",
       "        1914738081494129165, 1420028748837633863,  733284897621110003,\n",
       "         668164788960253724, 1008993515362167466, 1072131779469420094,\n",
       "         155022034638842869, 2240552382924550940,  990075153342510700,\n",
       "        1135767110662776148,  323906358285871038,  725736267669063296,\n",
       "        1059583932984535031,  389065880395732441, 1254442603959937214,\n",
       "        2030099650348479873, 1898818616440063259,  961219165520271993,\n",
       "        1254651014867448781, 2042618724242302211,  128244176522764998,\n",
       "         198252699085051291,  782344890802360638, 1791322852298030305,\n",
       "        2211125795944412394, 1616214658597716632, 1252712965918236475,\n",
       "        1350355813499203232,  346625849121818072, 1439195748227993268,\n",
       "        2096096254367680318, 1785314345786317242, 1613117918469637388,\n",
       "          32877586799460135, 2255086811050630531,  938539209095448165,\n",
       "         642693619058994104,  680444110708654779, 2021105167222665218,\n",
       "          49419205438191836,  949615435336516439,  528433965625153248,\n",
       "         613647200352000385, 2113293864411510398,  366995547450201141,\n",
       "        2111280764994841306, 2041140668147590854, 2159288690281216247,\n",
       "         869497381890215351,  214344063936212152, 2077796026546008465,\n",
       "        1904005588981551398, 2172715341638377285,  134768737873141346,\n",
       "         157345359802751958,  659926375691562495, 1665552238797412496,\n",
       "        1573553284916276425, 1305661792354652347, 1134816145973496272,\n",
       "         752168606803781379, 1676678899304631036,  969641412647827364,\n",
       "         305991417594766682,  223077452325025279, 1872266620525751444,\n",
       "         372122422274361031,  910649838067393001, 1216336526641153960,\n",
       "         216478994030877223, 1138717265377897320,  230970562258274059,\n",
       "        1679877689625223097, 2093217080710379442,  916685480880002463,\n",
       "          43153485031468330,  146497152150028551,  645341836525295760,\n",
       "        1240030699787870832, 1018275278528593908,  546956711807005553,\n",
       "        2155544176317070209, 1717442866154158334,  409808374279721413,\n",
       "         468880295005025440,  149445595488001015, 1642309767640915177,\n",
       "        1830093547882849939, 1862303522603583696,  407862201323884948,\n",
       "         222955220111317046,  551106529080960673], dtype=uint64),\n",
       " array([ 314178403250369139, 1552108319010047600,  675680440153806243,\n",
       "         434498020026011751, 1963269629835469053,  169655616427388015,\n",
       "        1871819581395080664,  710232160073812120,   93369824275532689,\n",
       "         660542052763456365,  898979748545375937, 1233998622086655138,\n",
       "         497347385967821756, 1831195556929171427, 1608172782336644675,\n",
       "        2070630123801923981, 1390878997269140271, 2241120890178823671,\n",
       "         454396818579649927, 1830348789287716034,  601601705470923391,\n",
       "        1260071251526019759, 1727994447788090298, 2171473285054116309,\n",
       "         280434247081018389, 2194971476132742813, 1807975511181801701,\n",
       "         333844081977008690,  314453410243286791,  113237716567881754,\n",
       "         826622605726235924,   48645820272442976, 1418626304877435758,\n",
       "        2167818840094414304, 1295754405415316475, 1797674283465122607,\n",
       "         567649895640391171,  448550315927532735,  377647266114674175,\n",
       "         961272302830017707, 1207497806379370653, 1455975343106114605,\n",
       "         735368172318534149, 2216536700877438843,  285124156817441828,\n",
       "         983553933180669276,  981074367909855533, 1690732999722779230,\n",
       "        1634749915248132795, 1900189052146672755,  819937424514885884,\n",
       "         186270275726183327, 1865642354681758880, 1234493170549214530,\n",
       "         820746394777708561, 1047798402161213417, 1128106484276550197,\n",
       "        1310268464418886978, 1292400494832437933, 1792589981537776241,\n",
       "        2121508921331945390, 2122368970010936982,  278250939126701694,\n",
       "         338122478466902505,   43775411872772057, 2135554019203116135,\n",
       "        1328455925227953544, 1429329015658459381, 2019755235706510374,\n",
       "         804127675628656297, 1095020081629807129, 1108896381526263601,\n",
       "        2159603120622807447,  705413726922300219,  209230435653503878,\n",
       "          27970719513948195,  890888832067301395,  460503232685879047,\n",
       "        1419788367240077293,  844725711204723341,  276799629444077426,\n",
       "        1623224228978484366,   10753617047879009, 1733660737710053151,\n",
       "        1444013732023363518,  663017972658458674, 1671238536511147705,\n",
       "         786654660690308285,  674067134703491221, 1675577903913597497,\n",
       "         562630361684670768,  688952555907125929, 1339243943193399054,\n",
       "        2032658580116487146,   38009822022429284,  410315615370164487,\n",
       "         368816006879237691, 1675352169472769643, 2266929112827253862,\n",
       "        1574382744854516485,  953359509345199071,  578390890898160989,\n",
       "         749585655739399010,  229291287867235239, 1864806025182026383,\n",
       "        1860392421598400881,  300688374244553833, 1345809503953839762,\n",
       "         833538186181943415,  384287278639036178, 1180064442687788089,\n",
       "        1447264848658851161,  467638668500172249, 1616827949161649981,\n",
       "        1586053315977151614, 1309242958335281035,  626321354310141568,\n",
       "         890872948079686265,  579911021691272942,    4480652646986847,\n",
       "         908071797491504245, 1652753096172916312,  649276906004471020,\n",
       "         552182937008059264, 1473254388398437564, 2082580467277132479,\n",
       "        1002655366888571460, 2060884006502914908,  822726025413074882,\n",
       "        2263987125121175705, 1954850925186977202,  144735192890940501,\n",
       "         265513058640948508, 2141162337002857691,  848598968733183022,\n",
       "         751313820063418461, 1945404328533636029, 1450981459629339076,\n",
       "        1829434288943442831, 1804721728932010457, 2151183160200780116,\n",
       "        1816483533735552611,  889167496235769085, 1085621349849207140,\n",
       "         433585908039390969, 2137057021965055733,  186194893448510563,\n",
       "         835711443336293555, 2298697137181622153,   15862628198231698,\n",
       "          57853800039589471, 1964390775036093431,  621537725502734316,\n",
       "         699766598841953295, 1301763596008743247,  321328935788509441,\n",
       "         489047313877090267, 1582280243935926431, 1203285574460048211,\n",
       "        1392252852073326475,  242942254875422370,  337358184025253408,\n",
       "        1535744656286618556,  841481206021582250, 1226059251248370955,\n",
       "         204807417409011264, 1589935185687196839,  559870535772226602,\n",
       "        1305865956913991964, 1279490188832100363, 1859026078288579885,\n",
       "         336133353457155324, 1742165121620632305, 1070036067532958422,\n",
       "        1313198760513073241, 1272375778103351900, 1750140596988558281,\n",
       "         429291504640666621, 1189233568723558514,  587616846085902214,\n",
       "        2179756254281417529, 1323317169566291569,   72732612300909642,\n",
       "          45600715921956215, 2030452332214256344,  986548992704994300,\n",
       "         590933591853621923,  967338825718732644,   11340124852489111,\n",
       "        1048415946222324450, 2130693764988879970,  693923706055968291,\n",
       "        2250836440709665776,  487233075510413407, 1675029651367090838,\n",
       "        1028541165388332767, 1999862272986754827,  996013982698065590,\n",
       "          16068317645809942,   83801306958728034], dtype=uint64))"
      ]
     },
     "execution_count": 6,
     "metadata": {},
     "output_type": "execute_result"
    }
   ],
   "source": [
    "PERMUTATIONS"
   ]
  },
  {
   "cell_type": "code",
   "execution_count": null,
   "metadata": {},
   "outputs": [],
   "source": []
  }
 ],
 "metadata": {
  "kernelspec": {
   "display_name": "text-dedup",
   "language": "python",
   "name": "python3"
  },
  "language_info": {
   "codemirror_mode": {
    "name": "ipython",
    "version": 3
   },
   "file_extension": ".py",
   "mimetype": "text/x-python",
   "name": "python",
   "nbconvert_exporter": "python",
   "pygments_lexer": "ipython3",
   "version": "3.11.9"
  }
 },
 "nbformat": 4,
 "nbformat_minor": 2
}
